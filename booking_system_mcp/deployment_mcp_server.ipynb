{
 "cells": [
  {
   "cell_type": "code",
   "execution_count": 21,
   "metadata": {},
   "outputs": [],
   "source": [
    "import os\n",
    "import dotenv\n",
    "\n",
    "dotenv.load_dotenv()\n",
    "\n",
    "# Define your variable in Python\n",
    "os.environ[\"APP_NAME\"] = \"galaxium-booking-system-mcp\"\n",
    "os.environ[\"PROJECT_NAME\"] = \"galaxium-travel-services-maxjesch\"\n",
    "os.environ[\"GIT_REPO\"] = \"https://github.com/Max-Jesch/galaxium-travels-infrastructure.git\"\n",
    "os.environ[\"CONTEXT_DIR\"] = \"booking_system_mcp\"\n",
    "os.environ[\"RESOURCE_GROUP\"] = \"max_jesch_rg\"\n",
    "\n",
    "# load API_KEY from .env file\n",
    "os.environ[\"API_KEY\"] = os.getenv(\"API_KEY\")\n",
    "\n",
    "\n"
   ]
  },
  {
   "cell_type": "markdown",
   "metadata": {},
   "source": [
    "# Preperation\n",
    "\n",
    "You might have to install the ibmcloud cli first on your system. This is how I did it for macOS\n",
    "\n",
    "- brew install --cask ibm-cloud-cli\n",
    "- ibmcloud plugin install code-engine"
   ]
  },
  {
   "cell_type": "markdown",
   "metadata": {},
   "source": [
    "# Login"
   ]
  },
  {
   "cell_type": "code",
   "execution_count": 22,
   "metadata": {},
   "outputs": [
    {
     "name": "stdout",
     "output_type": "stream",
     "text": [
      "API endpoint: https://cloud.ibm.com\n",
      "Authenticating...\n",
      "OK\n",
      "\n",
      "Targeted account Federated Advocates - Johanna (cf4d3293c4e568223fdb1b408ffce752) <-> 2032340\n",
      "\n",
      "Targeted region us-south\n",
      "\n",
      "\n",
      "API endpoint:     https://cloud.ibm.com\n",
      "Region:           us-south\n",
      "User:             Maximilian.Jesch@ibm.com\n",
      "Account:          Federated Advocates - Johanna (cf4d3293c4e568223fdb1b408ffce752) <-> 2032340\n",
      "Resource group:   No resource group targeted, use 'ibmcloud target -g RESOURCE_GROUP'\n",
      "Targeted resource group max_jesch_rg\n",
      "\n",
      "\n",
      "\n",
      "API endpoint:     https://cloud.ibm.com\n",
      "Region:           us-south\n",
      "User:             Maximilian.Jesch@ibm.com\n",
      "Account:          Federated Advocates - Johanna (cf4d3293c4e568223fdb1b408ffce752) <-> 2032340\n",
      "Resource group:   max_jesch_rg\n"
     ]
    }
   ],
   "source": [
    "%%bash\n",
    "# print the API_KEY\n",
    "ibmcloud login --apikey ${API_KEY} -r us-south\n",
    "ibmcloud target -g ${RESOURCE_GROUP}"
   ]
  },
  {
   "cell_type": "markdown",
   "metadata": {},
   "source": [
    "# Create a new IBM Cloud Code Engine application"
   ]
  },
  {
   "cell_type": "code",
   "execution_count": 4,
   "metadata": {},
   "outputs": [
    {
     "name": "stderr",
     "output_type": "stream",
     "text": [
      "FAILED\n",
      "A project named 'galaxium-travel-services-maxjesch' with id 'ed87ee9c-c2b5-47b0-bcb1-7be1ad314d97' and status 'active' already exists in region 'us-south'. Select a different name.\n",
      "\n"
     ]
    },
    {
     "name": "stdout",
     "output_type": "stream",
     "text": [
      "Selecting project 'galaxium-travel-services-maxjesch'...\n",
      "OK\n",
      "Creating application 'galaxium-booking-system-mcp'...\n",
      "Waiting for new application revision...\n",
      "Submitting build run 'galaxium-booking-system-mcp-run-250709-154802333'...\n",
      "For troubleshooting information visit: https://cloud.ibm.com/docs/codeengine?topic=codeengine-troubleshoot-build.\n",
      "Run 'ibmcloud ce buildrun get -n galaxium-booking-system-mcp-run-250709-154802333' to check the build run status.\n",
      "Run 'ibmcloud ce buildrun logs -f -n galaxium-booking-system-mcp-run-250709-154802333' to follow the logs of the build run.\n",
      "Creating image 'private.us.icr.io/ce--cf4d3-1xbq7f8yb8jb/app-galaxium-booking-system-mcp:250709-1348-skhri'...\n",
      "Waiting for build run to complete...\n",
      "Build run status: 'pending'\n",
      "Build run status: 'running'\n",
      "Build run completed successfully.\n",
      "Run 'ibmcloud ce buildrun get -n galaxium-booking-system-mcp-run-250709-154802333' to check the build run status.\n",
      "Waiting for application 'galaxium-booking-system-mcp' to become ready.\n",
      "Configuration 'galaxium-booking-system-mcp' is waiting for a Revision to become ready.\n",
      "Ingress has not yet been reconciled.\n",
      "Waiting for load balancer to be ready.\n",
      "Run 'ibmcloud ce application get -n galaxium-booking-system-mcp' to check the application status.\n",
      "OK\n",
      "\n",
      "https://galaxium-booking-system-mcp.1xbq7f8yb8jb.us-south.codeengine.appdomain.cloud\n"
     ]
    }
   ],
   "source": [
    "%%bash\n",
    "ibmcloud ce project create --name galaxium-travel-services-maxjesch\n",
    "# Select the project (optional, if not already selected)\n",
    "ibmcloud ce project select --name ${PROJECT_NAME}\n",
    "\n",
    "# Create the application\n",
    "ibmcloud ce application create \\\n",
    "  --name ${APP_NAME}\\\n",
    "  --build-source ${GIT_REPO} \\\n",
    "  --build-context-dir ${CONTEXT_DIR} \\\n",
    "  --strategy dockerfile \\"
   ]
  },
  {
   "cell_type": "markdown",
   "metadata": {},
   "source": [
    "# Trigger Redeployment\n",
    "\n",
    "if you have changed something in git you can use this to trigger a redeployment"
   ]
  },
  {
   "cell_type": "code",
   "execution_count": 23,
   "metadata": {},
   "outputs": [
    {
     "name": "stdout",
     "output_type": "stream",
     "text": [
      "Selecting project 'galaxium-travel-services-maxjesch'...\n",
      "OK\n",
      "Updating application 'galaxium-booking-system-mcp' to latest revision.\n",
      "Waiting for new application revision...\n",
      "Submitting build run 'galaxium-booking-system-mcp-run-250710-194728551'...\n",
      "For troubleshooting information visit: https://cloud.ibm.com/docs/codeengine?topic=codeengine-troubleshoot-build.\n",
      "Run 'ibmcloud ce buildrun get -n galaxium-booking-system-mcp-run-250710-194728551' to check the build run status.\n",
      "Run 'ibmcloud ce buildrun logs -f -n galaxium-booking-system-mcp-run-250710-194728551' to follow the logs of the build run.\n",
      "Creating image 'private.us.icr.io/ce--cf4d3-1xbq7f8yb8jb/app-galaxium-booking-system-mcp:250710-1643-u47g2'...\n",
      "Waiting for build run to complete...\n",
      "Build run status: 'pending'\n",
      "Build run status: 'running'\n",
      "Build run completed successfully.\n",
      "Run 'ibmcloud ce buildrun get -n galaxium-booking-system-mcp-run-250710-194728551' to check the build run status.\n",
      "Waiting for application 'galaxium-booking-system-mcp' to become ready.\n",
      "Configuration 'galaxium-booking-system-mcp' is waiting for a Revision to become ready.\n",
      "Ingress has not yet been reconciled.\n",
      "Waiting for load balancer to be ready.\n",
      "Run 'ibmcloud ce application get -n galaxium-booking-system-mcp' to check the application status.\n",
      "OK\n",
      "\n",
      "https://galaxium-booking-system-mcp.1xbq7f8yb8jb.us-south.codeengine.appdomain.cloud\n"
     ]
    }
   ],
   "source": [
    "%%bash\n",
    "\n",
    "ibmcloud ce project select --name ${PROJECT_NAME}\n",
    "\n",
    "# Create the application\n",
    "ibmcloud ce application update \\\n",
    "  --name ${APP_NAME}\\\n",
    "  --build-source ${GIT_REPO} \\\n",
    "  --build-context-dir ${CONTEXT_DIR} \\\n",
    "  --strategy dockerfile \\"
   ]
  },
  {
   "cell_type": "markdown",
   "metadata": {},
   "source": [
    "# Delete an IBM Cloud Code Engine application\n",
    "\n",
    "you should do this to avoid unnecessary cost"
   ]
  },
  {
   "cell_type": "code",
   "execution_count": null,
   "metadata": {},
   "outputs": [],
   "source": [
    "%%bash\n",
    "\n",
    "# Delete the application (force, no prompt)\n",
    "ibmcloud ce application delete --name ${APP_NAME} --force "
   ]
  }
 ],
 "metadata": {
  "kernelspec": {
   "display_name": "OLD.venv",
   "language": "python",
   "name": "python3"
  },
  "language_info": {
   "codemirror_mode": {
    "name": "ipython",
    "version": 3
   },
   "file_extension": ".py",
   "mimetype": "text/x-python",
   "name": "python",
   "nbconvert_exporter": "python",
   "pygments_lexer": "ipython3",
   "version": "3.13.4"
  }
 },
 "nbformat": 4,
 "nbformat_minor": 2
}
