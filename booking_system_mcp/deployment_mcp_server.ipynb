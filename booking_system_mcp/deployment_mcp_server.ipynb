{
 "cells": [
  {
   "cell_type": "code",
   "execution_count": 5,
   "metadata": {},
   "outputs": [],
   "source": [
    "import os\n",
    "import dotenv\n",
    "\n",
    "dotenv.load_dotenv()\n",
    "\n",
    "# Define your variable in Python\n",
    "os.environ[\"APP_NAME\"] = \"galaxium-booking-system-mcp\"\n",
    "os.environ[\"PROJECT_NAME\"] = \"galaxium-travel-services-maxjesch\"\n",
    "os.environ[\"GIT_REPO\"] = \"https://github.com/Max-Jesch/galaxium-travels-infrastructure.git\"\n",
    "os.environ[\"CONTEXT_DIR\"] = \"booking_system_mcp\"\n",
    "os.environ[\"RESOURCE_GROUP\"] = \"max_jesch_rg\"\n",
    "\n",
    "# load API_KEY from .env file\n",
    "os.environ[\"API_KEY\"] = os.getenv(\"API_KEY\")\n",
    "\n",
    "\n"
   ]
  },
  {
   "cell_type": "markdown",
   "metadata": {},
   "source": [
    "# Preperation\n",
    "\n",
    "You might have to install the ibmcloud cli first on your system. This is how I did it for macOS\n",
    "\n",
    "- brew install --cask ibm-cloud-cli\n",
    "- ibmcloud plugin install code-engine"
   ]
  },
  {
   "cell_type": "markdown",
   "metadata": {},
   "source": [
    "# Login"
   ]
  },
  {
   "cell_type": "code",
   "execution_count": 3,
   "metadata": {},
   "outputs": [
    {
     "name": "stdout",
     "output_type": "stream",
     "text": [
      "API endpoint: https://cloud.ibm.com\n",
      "Authenticating...\n",
      "OK\n",
      "\n",
      "Targeted account Federated Advocates - Johanna (cf4d3293c4e568223fdb1b408ffce752) <-> 2032340\n",
      "\n",
      "Targeted region us-south\n",
      "\n",
      "\n",
      "API endpoint:     https://cloud.ibm.com\n",
      "Region:           us-south\n",
      "User:             Maximilian.Jesch@ibm.com\n",
      "Account:          Federated Advocates - Johanna (cf4d3293c4e568223fdb1b408ffce752) <-> 2032340\n",
      "Resource group:   No resource group targeted, use 'ibmcloud target -g RESOURCE_GROUP'\n",
      "Targeted resource group max_jesch_rg\n",
      "\n",
      "\n",
      "\n",
      "API endpoint:     https://cloud.ibm.com\n",
      "Region:           us-south\n",
      "User:             Maximilian.Jesch@ibm.com\n",
      "Account:          Federated Advocates - Johanna (cf4d3293c4e568223fdb1b408ffce752) <-> 2032340\n",
      "Resource group:   max_jesch_rg\n"
     ]
    }
   ],
   "source": [
    "%%bash\n",
    "# print the API_KEY\n",
    "ibmcloud login --apikey ${API_KEY} -r us-south\n",
    "ibmcloud target -g ${RESOURCE_GROUP}"
   ]
  },
  {
   "cell_type": "markdown",
   "metadata": {},
   "source": [
    "# Create a new IBM Cloud Code Engine application"
   ]
  },
  {
   "cell_type": "code",
   "execution_count": 4,
   "metadata": {},
   "outputs": [
    {
     "name": "stderr",
     "output_type": "stream",
     "text": [
      "FAILED\n",
      "A project named 'galaxium-travel-services-maxjesch' with id 'ed87ee9c-c2b5-47b0-bcb1-7be1ad314d97' and status 'active' already exists in region 'us-south'. Select a different name.\n",
      "\n"
     ]
    },
    {
     "name": "stdout",
     "output_type": "stream",
     "text": [
      "Selecting project 'galaxium-travel-services-maxjesch'...\n",
      "OK\n",
      "Creating application 'galaxium-booking-system-mcp'...\n",
      "Waiting for new application revision...\n",
      "Submitting build run 'galaxium-booking-system-mcp-run-250709-154802333'...\n",
      "For troubleshooting information visit: https://cloud.ibm.com/docs/codeengine?topic=codeengine-troubleshoot-build.\n",
      "Run 'ibmcloud ce buildrun get -n galaxium-booking-system-mcp-run-250709-154802333' to check the build run status.\n",
      "Run 'ibmcloud ce buildrun logs -f -n galaxium-booking-system-mcp-run-250709-154802333' to follow the logs of the build run.\n",
      "Creating image 'private.us.icr.io/ce--cf4d3-1xbq7f8yb8jb/app-galaxium-booking-system-mcp:250709-1348-skhri'...\n",
      "Waiting for build run to complete...\n",
      "Build run status: 'pending'\n",
      "Build run status: 'running'\n",
      "Build run completed successfully.\n",
      "Run 'ibmcloud ce buildrun get -n galaxium-booking-system-mcp-run-250709-154802333' to check the build run status.\n",
      "Waiting for application 'galaxium-booking-system-mcp' to become ready.\n",
      "Configuration 'galaxium-booking-system-mcp' is waiting for a Revision to become ready.\n",
      "Ingress has not yet been reconciled.\n",
      "Waiting for load balancer to be ready.\n",
      "Run 'ibmcloud ce application get -n galaxium-booking-system-mcp' to check the application status.\n",
      "OK\n",
      "\n",
      "https://galaxium-booking-system-mcp.1xbq7f8yb8jb.us-south.codeengine.appdomain.cloud\n"
     ]
    }
   ],
   "source": [
    "%%bash\n",
    "ibmcloud ce project create --name galaxium-travel-services-maxjesch\n",
    "# Select the project (optional, if not already selected)\n",
    "ibmcloud ce project select --name ${PROJECT_NAME}\n",
    "\n",
    "# Create the application\n",
    "ibmcloud ce application create \\\n",
    "  --name ${APP_NAME}\\\n",
    "  --build-source ${GIT_REPO} \\\n",
    "  --build-context-dir ${CONTEXT_DIR} \\\n",
    "  --strategy dockerfile \\"
   ]
  },
  {
   "cell_type": "markdown",
   "metadata": {},
   "source": [
    "# Trigger Redeployment\n",
    "\n",
    "if you have changed something in git you can use this to trigger a redeployment"
   ]
  },
  {
   "cell_type": "code",
   "execution_count": 6,
   "metadata": {},
   "outputs": [
    {
     "name": "stdout",
     "output_type": "stream",
     "text": [
      "Selecting project 'galaxium-travel-services-maxjesch'...\n",
      "OK\n",
      "Updating application 'galaxium-booking-system-mcp' to latest revision.\n",
      "Waiting for new application revision...\n",
      "Submitting build run 'galaxium-booking-system-mcp-run-250709-155816142'...\n",
      "For troubleshooting information visit: https://cloud.ibm.com/docs/codeengine?topic=codeengine-troubleshoot-build.\n",
      "Run 'ibmcloud ce buildrun get -n galaxium-booking-system-mcp-run-250709-155816142' to check the build run status.\n",
      "Run 'ibmcloud ce buildrun logs -f -n galaxium-booking-system-mcp-run-250709-155816142' to follow the logs of the build run.\n",
      "Creating image 'private.us.icr.io/ce--cf4d3-1xbq7f8yb8jb/app-galaxium-booking-system-mcp:250709-1348-skhri'...\n",
      "Waiting for build run to complete...\n",
      "Build run status: 'pending'\n",
      "Build run status: 'running'\n",
      "Build run completed successfully.\n",
      "Run 'ibmcloud ce buildrun get -n galaxium-booking-system-mcp-run-250709-155816142' to check the build run status.\n",
      "Waiting for application 'galaxium-booking-system-mcp' to become ready.\n",
      "Run 'ibmcloud ce application get -n galaxium-booking-system-mcp' to check the application status.\n"
     ]
    },
    {
     "name": "stderr",
     "output_type": "stream",
     "text": [
      "FAILED\n",
      "Wait failed for application 'galaxium-booking-system-mcp'\n",
      "\n"
     ]
    },
    {
     "ename": "CalledProcessError",
     "evalue": "Command 'b'\\nibmcloud ce project select --name ${PROJECT_NAME}\\n\\n# Create the application\\nibmcloud ce application update \\\\\\n  --name ${APP_NAME}\\\\\\n  --build-source ${GIT_REPO} \\\\\\n  --build-context-dir ${CONTEXT_DIR} \\\\\\n  --strategy dockerfile \\\\\\n'' returned non-zero exit status 1.",
     "output_type": "error",
     "traceback": [
      "\u001b[31m---------------------------------------------------------------------------\u001b[39m",
      "\u001b[31mCalledProcessError\u001b[39m                        Traceback (most recent call last)",
      "\u001b[36mCell\u001b[39m\u001b[36m \u001b[39m\u001b[32mIn[6]\u001b[39m\u001b[32m, line 1\u001b[39m\n\u001b[32m----> \u001b[39m\u001b[32m1\u001b[39m \u001b[43mget_ipython\u001b[49m\u001b[43m(\u001b[49m\u001b[43m)\u001b[49m\u001b[43m.\u001b[49m\u001b[43mrun_cell_magic\u001b[49m\u001b[43m(\u001b[49m\u001b[33;43m'\u001b[39;49m\u001b[33;43mbash\u001b[39;49m\u001b[33;43m'\u001b[39;49m\u001b[43m,\u001b[49m\u001b[43m \u001b[49m\u001b[33;43m'\u001b[39;49m\u001b[33;43m'\u001b[39;49m\u001b[43m,\u001b[49m\u001b[43m \u001b[49m\u001b[33;43m'\u001b[39;49m\u001b[38;5;130;43;01m\\n\u001b[39;49;00m\u001b[33;43mibmcloud ce project select --name $\u001b[39;49m\u001b[38;5;132;43;01m{PROJECT_NAME}\u001b[39;49;00m\u001b[38;5;130;43;01m\\n\u001b[39;49;00m\u001b[38;5;130;43;01m\\n\u001b[39;49;00m\u001b[33;43m# Create the application\u001b[39;49m\u001b[38;5;130;43;01m\\n\u001b[39;49;00m\u001b[33;43mibmcloud ce application update \u001b[39;49m\u001b[38;5;130;43;01m\\\\\u001b[39;49;00m\u001b[38;5;130;43;01m\\n\u001b[39;49;00m\u001b[33;43m  --name $\u001b[39;49m\u001b[38;5;132;43;01m{APP_NAME}\u001b[39;49;00m\u001b[38;5;130;43;01m\\\\\u001b[39;49;00m\u001b[38;5;130;43;01m\\n\u001b[39;49;00m\u001b[33;43m  --build-source $\u001b[39;49m\u001b[38;5;132;43;01m{GIT_REPO}\u001b[39;49;00m\u001b[33;43m \u001b[39;49m\u001b[38;5;130;43;01m\\\\\u001b[39;49;00m\u001b[38;5;130;43;01m\\n\u001b[39;49;00m\u001b[33;43m  --build-context-dir $\u001b[39;49m\u001b[38;5;132;43;01m{CONTEXT_DIR}\u001b[39;49;00m\u001b[33;43m \u001b[39;49m\u001b[38;5;130;43;01m\\\\\u001b[39;49;00m\u001b[38;5;130;43;01m\\n\u001b[39;49;00m\u001b[33;43m  --strategy dockerfile \u001b[39;49m\u001b[38;5;130;43;01m\\\\\u001b[39;49;00m\u001b[38;5;130;43;01m\\n\u001b[39;49;00m\u001b[33;43m'\u001b[39;49m\u001b[43m)\u001b[49m\n",
      "\u001b[36mFile \u001b[39m\u001b[32m~/Library/CloudStorage/OneDrive-IBM/01_CODE/galaxium-travels-infrastructure/.venv/lib/python3.13/site-packages/IPython/core/interactiveshell.py:2565\u001b[39m, in \u001b[36mInteractiveShell.run_cell_magic\u001b[39m\u001b[34m(self, magic_name, line, cell)\u001b[39m\n\u001b[32m   2563\u001b[39m \u001b[38;5;28;01mwith\u001b[39;00m \u001b[38;5;28mself\u001b[39m.builtin_trap:\n\u001b[32m   2564\u001b[39m     args = (magic_arg_s, cell)\n\u001b[32m-> \u001b[39m\u001b[32m2565\u001b[39m     result = \u001b[43mfn\u001b[49m\u001b[43m(\u001b[49m\u001b[43m*\u001b[49m\u001b[43margs\u001b[49m\u001b[43m,\u001b[49m\u001b[43m \u001b[49m\u001b[43m*\u001b[49m\u001b[43m*\u001b[49m\u001b[43mkwargs\u001b[49m\u001b[43m)\u001b[49m\n\u001b[32m   2567\u001b[39m \u001b[38;5;66;03m# The code below prevents the output from being displayed\u001b[39;00m\n\u001b[32m   2568\u001b[39m \u001b[38;5;66;03m# when using magics with decorator @output_can_be_silenced\u001b[39;00m\n\u001b[32m   2569\u001b[39m \u001b[38;5;66;03m# when the last Python token in the expression is a ';'.\u001b[39;00m\n\u001b[32m   2570\u001b[39m \u001b[38;5;28;01mif\u001b[39;00m \u001b[38;5;28mgetattr\u001b[39m(fn, magic.MAGIC_OUTPUT_CAN_BE_SILENCED, \u001b[38;5;28;01mFalse\u001b[39;00m):\n",
      "\u001b[36mFile \u001b[39m\u001b[32m~/Library/CloudStorage/OneDrive-IBM/01_CODE/galaxium-travels-infrastructure/.venv/lib/python3.13/site-packages/IPython/core/magics/script.py:160\u001b[39m, in \u001b[36mScriptMagics._make_script_magic.<locals>.named_script_magic\u001b[39m\u001b[34m(line, cell)\u001b[39m\n\u001b[32m    158\u001b[39m \u001b[38;5;28;01melse\u001b[39;00m:\n\u001b[32m    159\u001b[39m     line = script\n\u001b[32m--> \u001b[39m\u001b[32m160\u001b[39m \u001b[38;5;28;01mreturn\u001b[39;00m \u001b[38;5;28;43mself\u001b[39;49m\u001b[43m.\u001b[49m\u001b[43mshebang\u001b[49m\u001b[43m(\u001b[49m\u001b[43mline\u001b[49m\u001b[43m,\u001b[49m\u001b[43m \u001b[49m\u001b[43mcell\u001b[49m\u001b[43m)\u001b[49m\n",
      "\u001b[36mFile \u001b[39m\u001b[32m~/Library/CloudStorage/OneDrive-IBM/01_CODE/galaxium-travels-infrastructure/.venv/lib/python3.13/site-packages/IPython/core/magics/script.py:343\u001b[39m, in \u001b[36mScriptMagics.shebang\u001b[39m\u001b[34m(self, line, cell)\u001b[39m\n\u001b[32m    338\u001b[39m \u001b[38;5;28;01mif\u001b[39;00m args.raise_error \u001b[38;5;129;01mand\u001b[39;00m p.returncode != \u001b[32m0\u001b[39m:\n\u001b[32m    339\u001b[39m     \u001b[38;5;66;03m# If we get here and p.returncode is still None, we must have\u001b[39;00m\n\u001b[32m    340\u001b[39m     \u001b[38;5;66;03m# killed it but not yet seen its return code. We don't wait for it,\u001b[39;00m\n\u001b[32m    341\u001b[39m     \u001b[38;5;66;03m# in case it's stuck in uninterruptible sleep. -9 = SIGKILL\u001b[39;00m\n\u001b[32m    342\u001b[39m     rc = p.returncode \u001b[38;5;129;01mor\u001b[39;00m -\u001b[32m9\u001b[39m\n\u001b[32m--> \u001b[39m\u001b[32m343\u001b[39m     \u001b[38;5;28;01mraise\u001b[39;00m CalledProcessError(rc, cell)\n",
      "\u001b[31mCalledProcessError\u001b[39m: Command 'b'\\nibmcloud ce project select --name ${PROJECT_NAME}\\n\\n# Create the application\\nibmcloud ce application update \\\\\\n  --name ${APP_NAME}\\\\\\n  --build-source ${GIT_REPO} \\\\\\n  --build-context-dir ${CONTEXT_DIR} \\\\\\n  --strategy dockerfile \\\\\\n'' returned non-zero exit status 1."
     ]
    }
   ],
   "source": [
    "%%bash\n",
    "\n",
    "ibmcloud ce project select --name ${PROJECT_NAME}\n",
    "\n",
    "# Create the application\n",
    "ibmcloud ce application update \\\n",
    "  --name ${APP_NAME}\\\n",
    "  --build-source ${GIT_REPO} \\\n",
    "  --build-context-dir ${CONTEXT_DIR} \\\n",
    "  --strategy dockerfile \\"
   ]
  },
  {
   "cell_type": "markdown",
   "metadata": {},
   "source": [
    "# Delete an IBM Cloud Code Engine application\n",
    "\n",
    "you should do this to avoid unnecessary cost"
   ]
  },
  {
   "cell_type": "code",
   "execution_count": null,
   "metadata": {},
   "outputs": [],
   "source": [
    "%%bash\n",
    "\n",
    "# Delete the application (force, no prompt)\n",
    "ibmcloud ce application delete --name ${APP_NAME} --force "
   ]
  }
 ],
 "metadata": {
  "kernelspec": {
   "display_name": ".venv",
   "language": "python",
   "name": "python3"
  },
  "language_info": {
   "codemirror_mode": {
    "name": "ipython",
    "version": 3
   },
   "file_extension": ".py",
   "mimetype": "text/x-python",
   "name": "python",
   "nbconvert_exporter": "python",
   "pygments_lexer": "ipython3",
   "version": "3.13.4"
  }
 },
 "nbformat": 4,
 "nbformat_minor": 2
}
