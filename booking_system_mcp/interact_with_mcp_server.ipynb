{
 "cells": [
  {
   "cell_type": "code",
   "execution_count": 3,
   "id": "d0f6f36f",
   "metadata": {},
   "outputs": [],
   "source": [
    "server_address = \"https://galaxium-booking-system-mcp.1xbq7f8yb8jb.us-south.codeengine.appdomain.cloud/sse\""
   ]
  },
  {
   "cell_type": "code",
   "execution_count": 17,
   "id": "cc634a02",
   "metadata": {},
   "outputs": [
    {
     "name": "stdout",
     "output_type": "stream",
     "text": [
      "{\n",
      "  \"meta\": null,\n",
      "  \"nextCursor\": null,\n",
      "  \"tools\": [\n",
      "    \"name='list_flights' title=None description='List all available flights. \\\n",
      "Returns a list of flights with origin, destination, times, price, and seats available.' inputSchema={'properties': {}, 'type': 'object'} outputSchema={'$defs': {'FlightOut': {'properties': {'flight_id': {'title': 'Flight Id', 'type': 'integer'}, 'origin': {'title': 'Origin', 'type': 'string'}, 'destination': {'title': 'Destination', 'type': 'string'}, 'departure_time': {'title': 'Departure Time', 'type': 'string'}, 'arrival_time': {'title': 'Arrival Time', 'type': 'string'}, 'price': {'title': 'Price', 'type': 'integer'}, 'seats_available': {'title': 'Seats Available', 'type': 'integer'}}, 'required': ['flight_id', 'origin', 'destination', 'departure_time', 'arrival_time', 'price', 'seats_available'], 'title': 'FlightOut', 'type': 'object'}}, 'properties': {'result': {'items': {'$ref': '#/$defs/FlightOut'}, 'title': 'Result', 'type': 'array'}}, 'required': ['result'], 'title': '_WrappedResult', 'type': 'object', 'x-fastmcp-wrap-result': True} annotations=None meta={'_fastmcp': {'tags': []}}\",\n",
      "    \"name='book_flight' title=None description='Book a seat on a specific flight for a user. \\\n",
      "Requires user_id, name, and flight_id. \\\n",
      "Decrements available seats if successful. \\\n",
      "Returns booking details or raises an error if booking is not possible.' inputSchema={'properties': {'user_id': {'title': 'User Id', 'type': 'integer'}, 'name': {'title': 'Name', 'type': 'string'}, 'flight_id': {'title': 'Flight Id', 'type': 'integer'}}, 'required': ['user_id', 'name', 'flight_id'], 'type': 'object'} outputSchema={'properties': {'booking_id': {'title': 'Booking Id', 'type': 'integer'}, 'user_id': {'title': 'User Id', 'type': 'integer'}, 'flight_id': {'title': 'Flight Id', 'type': 'integer'}, 'status': {'title': 'Status', 'type': 'string'}, 'booking_time': {'title': 'Booking Time', 'type': 'string'}}, 'required': ['booking_id', 'user_id', 'flight_id', 'status', 'booking_time'], 'title': 'BookingOut', 'type': 'object'} annotations=None meta={'_fastmcp': {'tags': []}}\",\n",
      "    \"name='get_bookings' title=None description='Retrieve all bookings for a specific user by user_id. \\\n",
      "Returns a list of booking details for the user.' inputSchema={'properties': {'user_id': {'title': 'User Id', 'type': 'integer'}}, 'required': ['user_id'], 'type': 'object'} outputSchema={'$defs': {'BookingOut': {'properties': {'booking_id': {'title': 'Booking Id', 'type': 'integer'}, 'user_id': {'title': 'User Id', 'type': 'integer'}, 'flight_id': {'title': 'Flight Id', 'type': 'integer'}, 'status': {'title': 'Status', 'type': 'string'}, 'booking_time': {'title': 'Booking Time', 'type': 'string'}}, 'required': ['booking_id', 'user_id', 'flight_id', 'status', 'booking_time'], 'title': 'BookingOut', 'type': 'object'}}, 'properties': {'result': {'items': {'$ref': '#/$defs/BookingOut'}, 'title': 'Result', 'type': 'array'}}, 'required': ['result'], 'title': '_WrappedResult', 'type': 'object', 'x-fastmcp-wrap-result': True} annotations=None meta={'_fastmcp': {'tags': []}}\",\n",
      "    \"name='cancel_booking' title=None description='Cancel an existing booking by its booking_id. \\\n",
      "Increments available seats for the flight if successful. \\\n",
      "Returns updated booking details or raises an error if already cancelled or not found.' inputSchema={'properties': {'booking_id': {'title': 'Booking Id', 'type': 'integer'}}, 'required': ['booking_id'], 'type': 'object'} outputSchema={'properties': {'booking_id': {'title': 'Booking Id', 'type': 'integer'}, 'user_id': {'title': 'User Id', 'type': 'integer'}, 'flight_id': {'title': 'Flight Id', 'type': 'integer'}, 'status': {'title': 'Status', 'type': 'string'}, 'booking_time': {'title': 'Booking Time', 'type': 'string'}}, 'required': ['booking_id', 'user_id', 'flight_id', 'status', 'booking_time'], 'title': 'BookingOut', 'type': 'object'} annotations=None meta={'_fastmcp': {'tags': []}}\",\n",
      "    \"name='register_user' title=None description=\\\"Register a new user with a name and unique email. \\\n",
      "Returns the created user's details or raises an error if the email is already registered.\\\" inputSchema={'properties': {'name': {'title': 'Name', 'type': 'string'}, 'email': {'title': 'Email', 'type': 'string'}}, 'required': ['name', 'email'], 'type': 'object'} outputSchema={'properties': {'user_id': {'title': 'User Id', 'type': 'integer'}, 'name': {'title': 'Name', 'type': 'string'}, 'email': {'title': 'Email', 'type': 'string'}}, 'required': ['user_id', 'name', 'email'], 'title': 'UserOut', 'type': 'object'} annotations=None meta={'_fastmcp': {'tags': []}}\",\n",
      "    \"name='get_user_id' title=None description=\\\"Retrieve a user's information, including user_id, by providing both name and email. \\\n",
      "Returns user details or raises an error if not found.\\\" inputSchema={'properties': {'name': {'title': 'Name', 'type': 'string'}, 'email': {'title': 'Email', 'type': 'string'}}, 'required': ['name', 'email'], 'type': 'object'} outputSchema={'properties': {'user_id': {'title': 'User Id', 'type': 'integer'}, 'name': {'title': 'Name', 'type': 'string'}, 'email': {'title': 'Email', 'type': 'string'}}, 'required': ['user_id', 'name', 'email'], 'title': 'UserOut', 'type': 'object'} annotations=None meta={'_fastmcp': {'tags': []}}\"\n",
      "  ]\n",
      "}\n"
     ]
    }
   ],
   "source": [
    "import asyncio\n",
    "import nest_asyncio\n",
    "import json\n",
    "from mcp import ClientSession\n",
    "from mcp.client.sse import sse_client\n",
    "\n",
    "# Allow nested event loops in Jupyter\n",
    "nest_asyncio.apply()\n",
    "\n",
    "async def main():\n",
    "    # Connect to the server using SSE\n",
    "    async with sse_client(server_address) as (read_stream, write_stream):\n",
    "        async with ClientSession(read_stream, write_stream) as session:\n",
    "            # Initialize the connection\n",
    "            await session.initialize()\n",
    "\n",
    "            # List available tools\n",
    "            tools_result = await session.list_tools()\n",
    "            json_str = json.dumps(tools_result.__dict__, indent=2, default=str)\n",
    "            print(json_str.replace('\\\\n', '\\n'))\n",
    "\n",
    "asyncio.run(main())"
   ]
  },
  {
   "cell_type": "code",
   "execution_count": null,
   "id": "5ce4f5b3",
   "metadata": {},
   "outputs": [
    {
     "name": "stdout",
     "output_type": "stream",
     "text": [
      "\"meta=None content=[TextContent(type='text', text='[{\\\"flight_id\\\":1,\\\"origin\\\":\\\"Earth\\\",\\\"destination\\\":\\\"Mars\\\",\\\"departure_time\\\":\\\"2099-01-01T09:00:00Z\\\",\\\"arrival_time\\\":\\\"2099-01-01T17:00:00Z\\\",\\\"price\\\":1000000,\\\"seats_available\\\":5},{\\\"flight_id\\\":2,\\\"origin\\\":\\\"Earth\\\",\\\"destination\\\":\\\"Moon\\\",\\\"departure_time\\\":\\\"2099-01-02T10:00:00Z\\\",\\\"arrival_time\\\":\\\"2099-01-02T14:00:00Z\\\",\\\"price\\\":500000,\\\"seats_available\\\":3},{\\\"flight_id\\\":3,\\\"origin\\\":\\\"Mars\\\",\\\"destination\\\":\\\"Earth\\\",\\\"departure_time\\\":\\\"2099-01-03T12:00:00Z\\\",\\\"arrival_time\\\":\\\"2099-01-03T20:00:00Z\\\",\\\"price\\\":950000,\\\"seats_available\\\":7},{\\\"flight_id\\\":4,\\\"origin\\\":\\\"Venus\\\",\\\"destination\\\":\\\"Earth\\\",\\\"departure_time\\\":\\\"2099-01-04T08:00:00Z\\\",\\\"arrival_time\\\":\\\"2099-01-04T18:00:00Z\\\",\\\"price\\\":1200000,\\\"seats_available\\\":2},{\\\"flight_id\\\":5,\\\"origin\\\":\\\"Jupiter\\\",\\\"destination\\\":\\\"Europa\\\",\\\"departure_time\\\":\\\"2099-01-05T15:00:00Z\\\",\\\"arrival_time\\\":\\\"2099-01-05T19:00:00Z\\\",\\\"price\\\":2000000,\\\"seats_available\\\":1},{\\\"flight_id\\\":6,\\\"origin\\\":\\\"Earth\\\",\\\"destination\\\":\\\"Venus\\\",\\\"departure_time\\\":\\\"2099-01-06T07:00:00Z\\\",\\\"arrival_time\\\":\\\"2099-01-06T15:00:00Z\\\",\\\"price\\\":1100000,\\\"seats_available\\\":4},{\\\"flight_id\\\":7,\\\"origin\\\":\\\"Moon\\\",\\\"destination\\\":\\\"Mars\\\",\\\"departure_time\\\":\\\"2099-01-07T11:00:00Z\\\",\\\"arrival_time\\\":\\\"2099-01-07T19:00:00Z\\\",\\\"price\\\":800000,\\\"seats_available\\\":6},{\\\"flight_id\\\":8,\\\"origin\\\":\\\"Mars\\\",\\\"destination\\\":\\\"Jupiter\\\",\\\"departure_time\\\":\\\"2099-01-08T13:00:00Z\\\",\\\"arrival_time\\\":\\\"2099-01-08T23:00:00Z\\\",\\\"price\\\":2500000,\\\"seats_available\\\":2},{\\\"flight_id\\\":9,\\\"origin\\\":\\\"Europa\\\",\\\"destination\\\":\\\"Earth\\\",\\\"departure_time\\\":\\\"2099-01-09T09:00:00Z\\\",\\\"arrival_time\\\":\\\"2099-01-09T21:00:00Z\\\",\\\"price\\\":3000000,\\\"seats_available\\\":3},{\\\"flight_id\\\":10,\\\"origin\\\":\\\"Earth\\\",\\\"destination\\\":\\\"Pluto\\\",\\\"departure_time\\\":\\\"2099-01-10T06:00:00Z\\\",\\\"arrival_time\\\":\\\"2099-01-11T06:00:00Z\\\",\\\"price\\\":5000000,\\\"seats_available\\\":1}]', annotations=None, meta=None)] structuredContent={'result': [{'flight_id': 1, 'origin': 'Earth', 'destination': 'Mars', 'departure_time': '2099-01-01T09:00:00Z', 'arrival_time': '2099-01-01T17:00:00Z', 'price': 1000000, 'seats_available': 5}, {'flight_id': 2, 'origin': 'Earth', 'destination': 'Moon', 'departure_time': '2099-01-02T10:00:00Z', 'arrival_time': '2099-01-02T14:00:00Z', 'price': 500000, 'seats_available': 3}, {'flight_id': 3, 'origin': 'Mars', 'destination': 'Earth', 'departure_time': '2099-01-03T12:00:00Z', 'arrival_time': '2099-01-03T20:00:00Z', 'price': 950000, 'seats_available': 7}, {'flight_id': 4, 'origin': 'Venus', 'destination': 'Earth', 'departure_time': '2099-01-04T08:00:00Z', 'arrival_time': '2099-01-04T18:00:00Z', 'price': 1200000, 'seats_available': 2}, {'flight_id': 5, 'origin': 'Jupiter', 'destination': 'Europa', 'departure_time': '2099-01-05T15:00:00Z', 'arrival_time': '2099-01-05T19:00:00Z', 'price': 2000000, 'seats_available': 1}, {'flight_id': 6, 'origin': 'Earth', 'destination': 'Venus', 'departure_time': '2099-01-06T07:00:00Z', 'arrival_time': '2099-01-06T15:00:00Z', 'price': 1100000, 'seats_available': 4}, {'flight_id': 7, 'origin': 'Moon', 'destination': 'Mars', 'departure_time': '2099-01-07T11:00:00Z', 'arrival_time': '2099-01-07T19:00:00Z', 'price': 800000, 'seats_available': 6}, {'flight_id': 8, 'origin': 'Mars', 'destination': 'Jupiter', 'departure_time': '2099-01-08T13:00:00Z', 'arrival_time': '2099-01-08T23:00:00Z', 'price': 2500000, 'seats_available': 2}, {'flight_id': 9, 'origin': 'Europa', 'destination': 'Earth', 'departure_time': '2099-01-09T09:00:00Z', 'arrival_time': '2099-01-09T21:00:00Z', 'price': 3000000, 'seats_available': 3}, {'flight_id': 10, 'origin': 'Earth', 'destination': 'Pluto', 'departure_time': '2099-01-10T06:00:00Z', 'arrival_time': '2099-01-11T06:00:00Z', 'price': 5000000, 'seats_available': 1}]} isError=False\"\n"
     ]
    }
   ],
   "source": [
    "# Run the list_flights tool\n",
    "async def list_flights():\n",
    "    async with sse_client(server_address) as (read_stream, write_stream):\n",
    "        async with ClientSession(read_stream, write_stream) as session:\n",
    "            await session.initialize()\n",
    "            \n",
    "            # Call the list_flights tool\n",
    "            result = await session.call_tool(\"list_flights\", {})\n",
    "            print(json.dumps(result, indent=2, default=str))\n",
    "\n",
    "asyncio.run(list_flights())\n"
   ]
  },
  {
   "cell_type": "code",
   "execution_count": null,
   "id": "5d9abbd1",
   "metadata": {},
   "outputs": [],
   "source": [
    "\n"
   ]
  },
  {
   "cell_type": "code",
   "execution_count": null,
   "id": "95644b14",
   "metadata": {},
   "outputs": [],
   "source": [
    "import asyncio\n",
    "import nest_asyncio\n",
    "from mcp import ClientSession\n",
    "from mcp.client.sse import sse_client\n",
    "\n",
    "# Allow nested event loops in Jupyter\n",
    "nest_asyncio.apply()\n",
    "\n",
    "async def main():\n",
    "    # Connect to the server using SSE\n",
    "    async with sse_client(\"https://galaxium-booking-system-mcp.1xbq7f8yb8jb.us-south.codeengine.appdomain.cloud/sse\") as (read_stream, write_stream):\n",
    "        async with ClientSession(read_stream, write_stream) as session:\n",
    "            # Initialize the connection\n",
    "            await session.initialize()\n",
    "\n",
    "            # List available tools\n",
    "            tools_result = await session.list_tools()\n",
    "            print(\"Available tools:\")\n",
    "            for tool in tools_result.tools:\n",
    "                print(f\"  - {tool.name}: {tool.description}\")\n",
    "\n",
    "            # Call our calculator tool\n",
    "            result = await session.call_tool(\"add\", arguments={\"a\": 2, \"b\": 3})\n",
    "            print(f\"2 + 3 = {result.content[0].text}\")\n",
    "\n",
    "# For Jupyter notebooks, we can either:\n",
    "# 1. Use await directly (recommended for notebooks)\n",
    "# 2. Use asyncio.run() with nest_asyncio (which we've enabled above)\n",
    "\n",
    "# Option 1: Direct await (recommended for notebooks)\n",
    "# await main()\n",
    "\n",
    "# Option 2: Using asyncio.run() (now works with nest_asyncio)\n",
    "asyncio.run(main())"
   ]
  }
 ],
 "metadata": {
  "kernelspec": {
   "display_name": "OLD.venv",
   "language": "python",
   "name": "python3"
  },
  "language_info": {
   "codemirror_mode": {
    "name": "ipython",
    "version": 3
   },
   "file_extension": ".py",
   "mimetype": "text/x-python",
   "name": "python",
   "nbconvert_exporter": "python",
   "pygments_lexer": "ipython3",
   "version": "3.13.4"
  }
 },
 "nbformat": 4,
 "nbformat_minor": 5
}
