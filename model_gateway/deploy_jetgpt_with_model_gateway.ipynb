{
  "cells": [
    {
      "cell_type": "markdown",
      "metadata": {},
      "source": [
        "# Deploy JetGPT with Model Gateway and Load Balancing\n",
        "\n",
        "This notebook demonstrates how to deploy JetGPT as an AI service in IBM watsonx.ai using the Model Gateway with load balancing capabilities.\n",
        "\n",
        "## Overview\n",
        "\n",
        "The Model Gateway in watsonx.ai provides a unified interface to access and manage AI models across different environments. This notebook shows how to:\n",
        "\n",
        "1. Set up the environment and authenticate with watsonx.ai\n",
        "2. Configure the Model Gateway for JetGPT\n",
        "3. Deploy JetGPT as an AI service\n",
        "4. Implement load balancing for multiple model instances\n",
        "5. Test the deployment and monitor performance\n",
        "\n",
        "## Prerequisites\n",
        "\n",
        "- IBM Cloud account with watsonx.ai access\n",
        "- Project and Space IDs in watsonx.ai\n",
        "- API key for authentication\n",
        "- JetGPT model access and credentials\n"
      ]
    },
    {
      "cell_type": "markdown",
      "metadata": {},
      "source": [
        "## 1. Install Dependencies and Set Up Environment\n"
      ]
    },
    {
      "cell_type": "code",
      "execution_count": null,
      "metadata": {},
      "outputs": [],
      "source": [
        "# Install required packages\n",
        "%pip install -U \"ibm_watsonx_ai>=1.3.25\"\n",
        "%pip install requests\n",
        "%pip install pandas\n",
        "%pip install numpy\n"
      ]
    },
    {
      "cell_type": "code",
      "execution_count": null,
      "metadata": {},
      "outputs": [],
      "source": [
        "# Import required libraries\n",
        "import os\n",
        "import json\n",
        "import time\n",
        "import requests\n",
        "import pandas as pd\n",
        "import numpy as np\n",
        "from typing import Dict, List, Optional\n",
        "import getpass\n",
        "\n",
        "from ibm_watsonx_ai import APIClient, Credentials\n",
        "from ibm_watsonx_ai.ml import Model, Deployment\n",
        "from ibm_watsonx_ai.ml.deployment import DeploymentClient\n"
      ]
    },
    {
      "cell_type": "markdown",
      "metadata": {},
      "source": [
        "## 2. Configure Authentication and Credentials\n"
      ]
    },
    {
      "cell_type": "code",
      "execution_count": null,
      "metadata": {},
      "outputs": [],
      "source": [
        "# Set up credentials for watsonx.ai\n",
        "# You can either use environment variables or input them manually\n",
        "\n",
        "# Option 1: Using environment variables (recommended for production)\n",
        "api_key = os.getenv('WATSONX_API_KEY')\n",
        "project_id = os.getenv('WATSONX_PROJECT_ID')\n",
        "space_id = os.getenv('WATSONX_SPACE_ID')\n",
        "\n",
        "# Option 2: Manual input (for development/testing)\n",
        "if not api_key:\n",
        "    api_key = getpass.getpass(\"Enter your watsonx.ai API key: \")\n",
        "if not project_id:\n",
        "    project_id = input(\"Enter your Project ID: \")\n",
        "if not space_id:\n",
        "    space_id = input(\"Enter your Space ID: \")\n",
        "\n",
        "print(f\"Project ID: {project_id}\")\n",
        "print(f\"Space ID: {space_id}\")\n",
        "print(\"API Key configured successfully!\")\n"
      ]
    },
    {
      "cell_type": "code",
      "execution_count": null,
      "metadata": {},
      "outputs": [],
      "source": [
        "# Initialize credentials and API client\n",
        "credentials = Credentials(\n",
        "    url=\"https://ca-tor.ml.cloud.ibm.com\",  # Adjust URL based on your region\n",
        "    api_key=api_key\n",
        ")\n",
        "\n",
        "# Initialize the API client\n",
        "client = APIClient(credentials=credentials, project_id=project_id)\n",
        "\n",
        "print(\"API client initialized successfully!\")\n"
      ]
    },
    {
      "cell_type": "markdown",
      "metadata": {},
      "source": [
        "## 3. Configure Model Gateway for JetGPT\n"
      ]
    }
  ],
  "metadata": {
    "language_info": {
      "name": "python"
    }
  },
  "nbformat": 4,
  "nbformat_minor": 2
}
