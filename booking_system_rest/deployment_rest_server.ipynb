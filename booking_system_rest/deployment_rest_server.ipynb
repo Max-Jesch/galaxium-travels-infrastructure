{
 "cells": [
  {
   "cell_type": "code",
   "execution_count": null,
   "metadata": {},
   "outputs": [],
   "source": [
    "import os\n",
    "import dotenv\n",
    "\n",
    "dotenv.load_dotenv()\n",
    "\n",
    "# Define your variable in Python\n",
    "# load configuration from .env file\n",
    "os.environ[\"APP_NAME\"] = os.getenv(\"APP_NAME\")\n",
    "os.environ[\"PROJECT_NAME\"] = os.getenv(\"PROJECT_NAME\")\n",
    "os.environ[\"GIT_REPO\"] = os.getenv(\"GIT_REPO\")\n",
    "os.environ[\"CONTEXT_DIR\"] = os.getenv(\"CONTEXT_DIR\")\n",
    "os.environ[\"RESOURCE_GROUP\"] = os.getenv(\"RESOURCE_GROUP\")\n",
    "os.environ[\"PORT\"] = os.getenv(\"PORT\")\n",
    "os.environ[\"API_KEY\"] = os.getenv(\"API_KEY\")\n"
   ]
  },
  {
   "cell_type": "markdown",
   "metadata": {},
   "source": [
    "# Preperation\n",
    "\n",
    "You might have to install the ibmcloud cli first on your system. This is how I did it for macOS\n",
    "\n",
    "- brew install --cask ibm-cloud-cli\n",
    "- ibmcloud plugin install code-engine\n",
    "\n",
    "Generate an environment file `.env` based on the `.env-template` environment file."
   ]
  },
  {
   "cell_type": "markdown",
   "metadata": {},
   "source": [
    "# Login"
   ]
  },
  {
   "cell_type": "code",
   "execution_count": 2,
   "metadata": {},
   "outputs": [
    {
     "name": "stdout",
     "output_type": "stream",
     "text": [
      "tsuedbro\n"
     ]
    }
   ],
   "source": [
    "!echo ${RESOURCE_GROUP}"
   ]
  },
  {
   "cell_type": "code",
   "execution_count": null,
   "metadata": {},
   "outputs": [],
   "source": []
  },
  {
   "cell_type": "code",
   "execution_count": null,
   "metadata": {},
   "outputs": [],
   "source": [
    "%%bash\n",
    "# print the API_KEY\n",
    "ibmcloud login --apikey ${API_KEY} -r \"us-south\"\n",
    "ibmcloud target -g ${RESOURCE_GROUP}"
   ]
  },
  {
   "cell_type": "markdown",
   "metadata": {},
   "source": [
    "# Create a new IBM Cloud Code Engine application"
   ]
  },
  {
   "cell_type": "code",
   "execution_count": null,
   "metadata": {},
   "outputs": [],
   "source": [
    "%%bash\n",
    "ibmcloud ce project create --name ${PROJECT_NAME}\n",
    "# Select the project (optional, if not already selected)\n",
    "ibmcloud ce project select --name ${PROJECT_NAME}\n",
    "\n",
    "# Create the application\n",
    "ibmcloud ce application create \\\n",
    "  --name ${APP_NAME}\\\n",
    "  --build-source ${GIT_REPO} \\\n",
    "  --build-context-dir ${CONTEXT_DIR} \\\n",
    "  --port ${PORT} \\\n",
    "  --strategy dockerfile \\"
   ]
  },
  {
   "cell_type": "markdown",
   "metadata": {},
   "source": [
    "# Running all the tests"
   ]
  },
  {
   "cell_type": "markdown",
   "metadata": {},
   "source": []
  },
  {
   "cell_type": "code",
   "execution_count": 6,
   "metadata": {},
   "outputs": [
    {
     "name": "stdout",
     "output_type": "stream",
     "text": [
      "Running all tests with coverage...\n",
      "\u001b[1m============================= test session starts ==============================\u001b[0m\n",
      "platform darwin -- Python 3.12.3, pytest-8.4.1, pluggy-1.6.0 -- /Users/thomassuedbroecker/Documents/tsuedbro/dev/learning-2024/galaxium-travels-infrastructure/booking_system_rest/.venv/bin/python\n",
      "cachedir: .pytest_cache\n",
      "rootdir: /Users/thomassuedbroecker/Documents/tsuedbro/dev/learning-2024/galaxium-travels-infrastructure/booking_system_rest\n",
      "configfile: pytest.ini\n",
      "plugins: asyncio-1.1.0, anyio-4.10.0, cov-6.2.1, mock-3.14.1\n",
      "asyncio: mode=Mode.STRICT, asyncio_default_fixture_loop_scope=None, asyncio_default_test_loop_scope=function\n",
      "\u001b[1mcollecting ... \u001b[0mcollected 34 items\n",
      "\n",
      "tests/test_booking_system.py::TestFlightBooking::test_book_flight_success \u001b[32mPASSED\u001b[0m\u001b[33m [  2%]\u001b[0m\n",
      "tests/test_booking_system.py::TestFlightBooking::test_book_flight_user_id_name_mismatch \u001b[32mPASSED\u001b[0m\u001b[33m [  5%]\u001b[0m\n",
      "tests/test_booking_system.py::TestFlightBooking::test_book_flight_user_not_found \u001b[32mPASSED\u001b[0m\u001b[33m [  8%]\u001b[0m\n",
      "tests/test_booking_system.py::TestFlightBooking::test_book_flight_not_found \u001b[32mPASSED\u001b[0m\u001b[33m [ 11%]\u001b[0m\n",
      "tests/test_booking_system.py::TestFlightBooking::test_book_flight_no_seats_available \u001b[32mPASSED\u001b[0m\u001b[33m [ 14%]\u001b[0m\n",
      "tests/test_booking_system.py::TestBookingRetrieval::test_get_user_bookings_success \u001b[32mPASSED\u001b[0m\u001b[33m [ 17%]\u001b[0m\n",
      "tests/test_booking_system.py::TestBookingRetrieval::test_get_user_bookings_no_bookings \u001b[32mPASSED\u001b[0m\u001b[33m [ 20%]\u001b[0m\n",
      "tests/test_booking_system.py::TestBookingRetrieval::test_get_user_bookings_invalid_user_id \u001b[32mPASSED\u001b[0m\u001b[33m [ 23%]\u001b[0m\n",
      "tests/test_booking_system.py::TestBookingCancellation::test_cancel_booking_success \u001b[32mPASSED\u001b[0m\u001b[33m [ 26%]\u001b[0m\n",
      "tests/test_booking_system.py::TestBookingCancellation::test_cancel_booking_not_found \u001b[32mPASSED\u001b[0m\u001b[33m [ 29%]\u001b[0m\n",
      "tests/test_booking_system.py::TestBookingCancellation::test_cancel_already_cancelled_booking \u001b[32mPASSED\u001b[0m\u001b[33m [ 32%]\u001b[0m\n",
      "tests/test_database.py::TestDatabase::test_init_db \u001b[32mPASSED\u001b[0m\u001b[33m                [ 35%]\u001b[0m\n",
      "tests/test_database.py::TestDatabase::test_get_db_session_creation \u001b[32mPASSED\u001b[0m\u001b[33m [ 38%]\u001b[0m\n",
      "tests/test_database.py::TestDatabase::test_get_db_session_cleanup \u001b[32mPASSED\u001b[0m\u001b[33m [ 41%]\u001b[0m\n",
      "tests/test_database.py::TestDatabase::test_database_url_configuration \u001b[32mPASSED\u001b[0m\u001b[33m [ 44%]\u001b[0m\n",
      "tests/test_database.py::TestDatabase::test_engine_configuration \u001b[32mPASSED\u001b[0m\u001b[33m   [ 47%]\u001b[0m\n",
      "tests/test_database.py::TestDatabase::test_session_maker_configuration \u001b[32mPASSED\u001b[0m\u001b[33m [ 50%]\u001b[0m\n",
      "tests/test_flight_management.py::TestFlightRetrieval::test_get_flights_empty_database \u001b[32mPASSED\u001b[0m\u001b[33m [ 52%]\u001b[0m\n",
      "tests/test_flight_management.py::TestFlightRetrieval::test_get_flights_with_data \u001b[32mPASSED\u001b[0m\u001b[33m [ 55%]\u001b[0m\n",
      "tests/test_flight_management.py::TestFlightDataIntegrity::test_flight_id_auto_increment \u001b[32mPASSED\u001b[0m\u001b[33m [ 58%]\u001b[0m\n",
      "tests/test_flight_management.py::TestFlightDataIntegrity::test_flight_seats_available_validation \u001b[32mPASSED\u001b[0m\u001b[33m [ 61%]\u001b[0m\n",
      "tests/test_flight_management.py::TestFlightDataIntegrity::test_flight_price_validation \u001b[32mPASSED\u001b[0m\u001b[33m [ 64%]\u001b[0m\n",
      "tests/test_flight_management.py::TestFlightBookingIntegration::test_flight_seats_decrement_on_booking \u001b[32mPASSED\u001b[0m\u001b[33m [ 67%]\u001b[0m\n",
      "tests/test_flight_management.py::TestFlightBookingIntegration::test_flight_seats_increment_on_cancellation \u001b[32mPASSED\u001b[0m\u001b[33m [ 70%]\u001b[0m\n",
      "tests/test_flight_management.py::TestFlightBookingIntegration::test_multiple_bookings_same_flight \u001b[32mPASSED\u001b[0m\u001b[33m [ 73%]\u001b[0m\n",
      "tests/test_user_management.py::TestUserRegistration::test_register_user_success \u001b[32mPASSED\u001b[0m\u001b[33m [ 76%]\u001b[0m\n",
      "tests/test_user_management.py::TestUserRegistration::test_register_user_duplicate_email \u001b[32mPASSED\u001b[0m\u001b[33m [ 79%]\u001b[0m\n",
      "tests/test_user_management.py::TestUserRegistration::test_register_user_missing_fields \u001b[32mPASSED\u001b[0m\u001b[33m [ 82%]\u001b[0m\n",
      "tests/test_user_management.py::TestUserRegistration::test_register_user_invalid_email_format \u001b[32mPASSED\u001b[0m\u001b[33m [ 85%]\u001b[0m\n",
      "tests/test_user_management.py::TestUserRetrieval::test_get_user_success \u001b[32mPASSED\u001b[0m\u001b[33m [ 88%]\u001b[0m\n",
      "tests/test_user_management.py::TestUserRetrieval::test_get_user_not_found \u001b[32mPASSED\u001b[0m\u001b[33m [ 91%]\u001b[0m\n",
      "tests/test_user_management.py::TestUserRetrieval::test_get_user_missing_parameters \u001b[32mPASSED\u001b[0m\u001b[33m [ 94%]\u001b[0m\n",
      "tests/test_user_management.py::TestUserIDConsistency::test_user_id_auto_increment \u001b[32mPASSED\u001b[0m\u001b[33m [ 97%]\u001b[0m\n",
      "tests/test_user_management.py::TestUserIDConsistency::test_user_id_persistence \u001b[32mPASSED\u001b[0m\u001b[33m [100%]\u001b[0m\n",
      "\n",
      "\u001b[33m=============================== warnings summary ===============================\u001b[0m\n",
      "models.py:4\n",
      "  /Users/thomassuedbroecker/Documents/tsuedbro/dev/learning-2024/galaxium-travels-infrastructure/booking_system_rest/models.py:4: MovedIn20Warning: The ``declarative_base()`` function is now available as sqlalchemy.orm.declarative_base(). (deprecated since: 2.0) (Background on SQLAlchemy 2.0 at: https://sqlalche.me/e/b8d9)\n",
      "    Base = declarative_base()\n",
      "\n",
      "app.py:15\n",
      "  /Users/thomassuedbroecker/Documents/tsuedbro/dev/learning-2024/galaxium-travels-infrastructure/booking_system_rest/app.py:15: DeprecationWarning: \n",
      "          on_event is deprecated, use lifespan event handlers instead.\n",
      "  \n",
      "          Read more about it in the\n",
      "          [FastAPI docs for Lifespan Events](https://fastapi.tiangolo.com/advanced/events/).\n",
      "          \n",
      "    @app.on_event(\"startup\")\n",
      "\n",
      ".venv/lib/python3.12/site-packages/fastapi/applications.py:4495\n",
      "  /Users/thomassuedbroecker/Documents/tsuedbro/dev/learning-2024/galaxium-travels-infrastructure/booking_system_rest/.venv/lib/python3.12/site-packages/fastapi/applications.py:4495: DeprecationWarning: \n",
      "          on_event is deprecated, use lifespan event handlers instead.\n",
      "  \n",
      "          Read more about it in the\n",
      "          [FastAPI docs for Lifespan Events](https://fastapi.tiangolo.com/advanced/events/).\n",
      "          \n",
      "    return self.router.on_event(event_type)\n",
      "\n",
      ".venv/lib/python3.12/site-packages/pydantic/_internal/_config.py:323\n",
      ".venv/lib/python3.12/site-packages/pydantic/_internal/_config.py:323\n",
      ".venv/lib/python3.12/site-packages/pydantic/_internal/_config.py:323\n",
      "  /Users/thomassuedbroecker/Documents/tsuedbro/dev/learning-2024/galaxium-travels-infrastructure/booking_system_rest/.venv/lib/python3.12/site-packages/pydantic/_internal/_config.py:323: PydanticDeprecatedSince20: Support for class-based `config` is deprecated, use ConfigDict instead. Deprecated in Pydantic V2.0 to be removed in V3.0. See Pydantic V2 Migration Guide at https://errors.pydantic.dev/2.11/migration/\n",
      "    warnings.warn(DEPRECATION_MESSAGE, DeprecationWarning)\n",
      "\n",
      "tests/test_booking_system.py: 11 warnings\n",
      "tests/test_flight_management.py: 8 warnings\n",
      "tests/test_user_management.py: 9 warnings\n",
      "  /Users/thomassuedbroecker/Documents/tsuedbro/dev/learning-2024/galaxium-travels-infrastructure/booking_system_rest/seed.py:49: DeprecationWarning: datetime.datetime.utcnow() is deprecated and scheduled for removal in a future version. Use timezone-aware objects to represent datetimes in UTC: datetime.datetime.now(datetime.UTC).\n",
      "    now = datetime.utcnow()\n",
      "\n",
      "tests/test_booking_system.py::TestFlightBooking::test_book_flight_success\n",
      "tests/test_flight_management.py::TestFlightBookingIntegration::test_flight_seats_decrement_on_booking\n",
      "tests/test_flight_management.py::TestFlightBookingIntegration::test_multiple_bookings_same_flight\n",
      "tests/test_flight_management.py::TestFlightBookingIntegration::test_multiple_bookings_same_flight\n",
      "tests/test_flight_management.py::TestFlightBookingIntegration::test_multiple_bookings_same_flight\n",
      "  /Users/thomassuedbroecker/Documents/tsuedbro/dev/learning-2024/galaxium-travels-infrastructure/booking_system_rest/app.py:105: DeprecationWarning: datetime.datetime.utcnow() is deprecated and scheduled for removal in a future version. Use timezone-aware objects to represent datetimes in UTC: datetime.datetime.now(datetime.UTC).\n",
      "    booking_time=datetime.utcnow().isoformat()\n",
      "\n",
      "-- Docs: https://docs.pytest.org/en/stable/how-to/capture-warnings.html\n",
      "================================ tests coverage ================================\n",
      "_______________ coverage: platform darwin, python 3.12.3-final-0 _______________\n",
      "\n",
      "Name        Stmts   Miss  Cover   Missing\n",
      "-----------------------------------------\n",
      "app.py        101      2    98%   187-188\n",
      "db.py          13      0   100%\n",
      "models.py      24      0   100%\n",
      "-----------------------------------------\n",
      "TOTAL         138      2    99%\n",
      "Coverage HTML written to dir htmlcov\n",
      "\u001b[33m======================= \u001b[32m34 passed\u001b[0m, \u001b[33m\u001b[1m39 warnings\u001b[0m\u001b[33m in 0.61s\u001b[0m\u001b[33m ========================\u001b[0m\n",
      "\n",
      "\n",
      "✅ all completed successfully!\n"
     ]
    }
   ],
   "source": [
    "%%bash\n",
    "source .venv/bin/activate\n",
    "python run_tests.py all\n"
   ]
  },
  {
   "cell_type": "markdown",
   "metadata": {},
   "source": [
    "# Trigger Redeployment\n",
    "\n",
    "if you have changed something in git you can use this to trigger a redeployment"
   ]
  },
  {
   "cell_type": "code",
   "execution_count": null,
   "metadata": {},
   "outputs": [],
   "source": [
    "%%bash\n",
    "\n",
    "ibmcloud ce project select --name ${PROJECT_NAME}\n",
    "\n",
    "# Create the application\n",
    "ibmcloud ce application update \\\n",
    "  --name ${APP_NAME}\\\n",
    "  --build-source ${GIT_REPO} \\\n",
    "  --build-context-dir ${CONTEXT_DIR} \\\n",
    "  --port ${PORT} \\\n",
    "  --strategy dockerfile \\"
   ]
  },
  {
   "cell_type": "markdown",
   "metadata": {},
   "source": [
    "# Delete an IBM Cloud Code Engine application\n",
    "\n",
    "you should do this to avoid unnecessary cost"
   ]
  },
  {
   "cell_type": "code",
   "execution_count": null,
   "metadata": {},
   "outputs": [],
   "source": [
    "%%bash\n",
    "\n",
    "# Delete the application (force, no prompt)\n",
    "ibmcloud ce application delete --name ${APP_NAME} --force "
   ]
  }
 ],
 "metadata": {
  "kernelspec": {
   "display_name": "Python 3 (ipykernel)",
   "language": "python",
   "name": "python3"
  },
  "language_info": {
   "codemirror_mode": {
    "name": "ipython",
    "version": 3
   },
   "file_extension": ".py",
   "mimetype": "text/x-python",
   "name": "python",
   "nbconvert_exporter": "python",
   "pygments_lexer": "ipython3",
   "version": "3.12.3"
  }
 },
 "nbformat": 4,
 "nbformat_minor": 4
}
