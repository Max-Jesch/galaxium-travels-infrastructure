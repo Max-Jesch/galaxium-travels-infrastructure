{
 "cells": [
  {
   "cell_type": "code",
   "execution_count": 1,
   "metadata": {},
   "outputs": [],
   "source": [
    "import os\n",
    "import dotenv\n",
    "\n",
    "dotenv.load_dotenv()\n",
    "\n",
    "# Define your variable in Python\n",
    "# load configuration from .env file\n",
    "os.environ[\"APP_NAME\"] = os.getenv(\"APP_NAME\")\n",
    "os.environ[\"PROJECT_NAME\"] = os.getenv(\"PROJECT_NAME\")\n",
    "os.environ[\"GIT_REPO\"] = os.getenv(\"GIT_REPO\")\n",
    "os.environ[\"CONTEXT_DIR\"] = os.getenv(\"CONTEXT_DIR\")\n",
    "os.environ[\"RESOURCE_GROUP\"] = os.getenv(\"RESOURCE_GROUP\")\n",
    "os.environ[\"PORT\"] = os.getenv(\"PORT\")\n",
    "os.environ[\"API_KEY\"] = os.getenv(\"API_KEY\")\n"
   ]
  },
  {
   "cell_type": "markdown",
   "metadata": {},
   "source": [
    "# Preperation\n",
    "\n",
    "You might have to install the ibmcloud cli first on your system. This is how I did it for macOS\n",
    "\n",
    "- brew install --cask ibm-cloud-cli\n",
    "- ibmcloud plugin install code-engine\n",
    "\n",
    "Generate an environment file `.env` based on the `.env-template` environment file."
   ]
  },
  {
   "cell_type": "markdown",
   "metadata": {},
   "source": [
    "# Login"
   ]
  },
  {
   "cell_type": "code",
   "execution_count": 2,
   "metadata": {},
   "outputs": [
    {
     "name": "stdout",
     "output_type": "stream",
     "text": [
      "tsuedbro\n"
     ]
    }
   ],
   "source": [
    "!echo ${RESOURCE_GROUP}"
   ]
  },
  {
   "cell_type": "code",
   "execution_count": null,
   "metadata": {},
   "outputs": [],
   "source": []
  },
  {
   "cell_type": "code",
   "execution_count": 3,
   "metadata": {},
   "outputs": [
    {
     "name": "stdout",
     "output_type": "stream",
     "text": [
      "API endpoint: https://cloud.ibm.com\n",
      "Authenticating...\n",
      "OK\n",
      "\n",
      "Targeted account Federated Advocates - Johanna (cf4d3293c4e568223fdb1b408ffce752) <-> 2032340\n",
      "\n",
      "Targeted region us-south\n",
      "\n",
      "\n",
      "API endpoint:     https://cloud.ibm.com\n",
      "Region:           us-south\n",
      "User:             thomas.suedbroecker@de.ibm.com\n",
      "Account:          Federated Advocates - Johanna (cf4d3293c4e568223fdb1b408ffce752) <-> 2032340\n",
      "Resource group:   No resource group targeted, use 'ibmcloud target -g RESOURCE_GROUP'\n",
      "Targeted resource group tsuedbro\n",
      "\n",
      "\n",
      "\n",
      "API endpoint:     https://cloud.ibm.com\n",
      "Region:           us-south\n",
      "User:             thomas.suedbroecker@de.ibm.com\n",
      "Account:          Federated Advocates - Johanna (cf4d3293c4e568223fdb1b408ffce752) <-> 2032340\n",
      "Resource group:   tsuedbro\n"
     ]
    }
   ],
   "source": [
    "%%bash\n",
    "# print the API_KEY\n",
    "ibmcloud login --apikey ${API_KEY} -r \"us-south\"\n",
    "ibmcloud target -g ${RESOURCE_GROUP}"
   ]
  },
  {
   "cell_type": "markdown",
   "metadata": {},
   "source": [
    "# Create a new IBM Cloud Code Engine application"
   ]
  },
  {
   "cell_type": "code",
   "execution_count": 4,
   "metadata": {},
   "outputs": [
    {
     "name": "stderr",
     "output_type": "stream",
     "text": [
      "FAILED\n",
      "A project named 'galaxium-travel-services-tsuedbro' with id '62374b4b-9e5c-4930-bf2c-5f2e9a2ee5e6' and status 'active' already exists in region 'us-south'. Select a different name.\n",
      "\n"
     ]
    },
    {
     "name": "stdout",
     "output_type": "stream",
     "text": [
      "Selecting project 'galaxium-travel-services-tsuedbro'...\n",
      "OK\n",
      "Creating application 'galaxium-booking-system'...\n",
      "Waiting for new application revision...\n",
      "Submitting build run 'galaxium-booking-system-run-250813-143636502'...\n",
      "For troubleshooting information visit: https://cloud.ibm.com/docs/codeengine?topic=codeengine-troubleshoot-build.\n",
      "Run 'ibmcloud ce buildrun get -n galaxium-booking-system-run-250813-143636502' to check the build run status.\n",
      "Run 'ibmcloud ce buildrun logs -f -n galaxium-booking-system-run-250813-143636502' to follow the logs of the build run.\n",
      "Creating image 'private.us.icr.io/ce--cf4d3-1yyfsw1we2xf/app-galaxium-booking-system:250813-1236-j2sjp'...\n",
      "Waiting for build run to complete...\n",
      "Build run status: 'pending'\n",
      "Build run status: 'running'\n",
      "Build run completed successfully.\n",
      "Run 'ibmcloud ce buildrun get -n galaxium-booking-system-run-250813-143636502' to check the build run status.\n",
      "Waiting for application 'galaxium-booking-system' to become ready.\n",
      "Configuration 'galaxium-booking-system' is waiting for a Revision to become ready.\n",
      "Ingress has not yet been reconciled.\n",
      "Waiting for load balancer to be ready.\n",
      "Run 'ibmcloud ce application get -n galaxium-booking-system' to check the application status.\n",
      "OK\n",
      "\n",
      "https://galaxium-booking-system.1yyfsw1we2xf.us-south.codeengine.appdomain.cloud\n"
     ]
    }
   ],
   "source": [
    "%%bash\n",
    "ibmcloud ce project create --name ${PROJECT_NAME}\n",
    "# Select the project (optional, if not already selected)\n",
    "ibmcloud ce project select --name ${PROJECT_NAME}\n",
    "\n",
    "# Create the application\n",
    "ibmcloud ce application create \\\n",
    "  --name ${APP_NAME}\\\n",
    "  --build-source ${GIT_REPO} \\\n",
    "  --build-context-dir ${CONTEXT_DIR} \\\n",
    "  --port ${PORT} \\\n",
    "  --strategy dockerfile \\"
   ]
  },
  {
   "cell_type": "markdown",
   "metadata": {},
   "source": [
    "# Running all the tests"
   ]
  },
  {
   "cell_type": "markdown",
   "metadata": {},
   "source": []
  },
  {
   "cell_type": "code",
   "execution_count": 5,
   "metadata": {},
   "outputs": [
    {
     "name": "stdout",
     "output_type": "stream",
     "text": [
      "Running all tests with coverage...\n",
      "\u001b[1m============================= test session starts ==============================\u001b[0m\n",
      "platform darwin -- Python 3.12.3, pytest-8.4.1, pluggy-1.6.0 -- /Users/thomassuedbroecker/Documents/tsuedbro/dev/learning-2024/galaxium-travels-infrastructure/booking_system_rest/.venv/bin/python\n",
      "cachedir: .pytest_cache\n",
      "rootdir: /Users/thomassuedbroecker/Documents/tsuedbro/dev/learning-2024/galaxium-travels-infrastructure/booking_system_rest\n",
      "configfile: pytest.ini\n",
      "plugins: asyncio-1.1.0, anyio-4.10.0, cov-6.2.1, mock-3.14.1\n",
      "asyncio: mode=Mode.STRICT, asyncio_default_fixture_loop_scope=None, asyncio_default_test_loop_scope=function\n",
      "\u001b[1mcollecting ... \u001b[0mcollected 33 items\n",
      "\n",
      "tests/test_booking_system.py::TestFlightBooking::test_book_flight_success \u001b[32mPASSED\u001b[0m\u001b[33m [  3%]\u001b[0m\n",
      "tests/test_booking_system.py::TestFlightBooking::test_book_flight_user_id_name_mismatch \u001b[32mPASSED\u001b[0m\u001b[33m [  6%]\u001b[0m\n",
      "tests/test_booking_system.py::TestFlightBooking::test_book_flight_user_not_found \u001b[32mPASSED\u001b[0m\u001b[33m [  9%]\u001b[0m\n",
      "tests/test_booking_system.py::TestFlightBooking::test_book_flight_not_found \u001b[32mPASSED\u001b[0m\u001b[33m [ 12%]\u001b[0m\n",
      "tests/test_booking_system.py::TestFlightBooking::test_book_flight_no_seats_available \u001b[32mPASSED\u001b[0m\u001b[33m [ 15%]\u001b[0m\n",
      "tests/test_booking_system.py::TestBookingRetrieval::test_get_user_bookings_success \u001b[32mPASSED\u001b[0m\u001b[33m [ 18%]\u001b[0m\n",
      "tests/test_booking_system.py::TestBookingRetrieval::test_get_user_bookings_no_bookings \u001b[32mPASSED\u001b[0m\u001b[33m [ 21%]\u001b[0m\n",
      "tests/test_booking_system.py::TestBookingRetrieval::test_get_user_bookings_invalid_user_id \u001b[32mPASSED\u001b[0m\u001b[33m [ 24%]\u001b[0m\n",
      "tests/test_booking_system.py::TestBookingCancellation::test_cancel_booking_success \u001b[32mPASSED\u001b[0m\u001b[33m [ 27%]\u001b[0m\n",
      "tests/test_booking_system.py::TestBookingCancellation::test_cancel_booking_not_found \u001b[32mPASSED\u001b[0m\u001b[33m [ 30%]\u001b[0m\n",
      "tests/test_booking_system.py::TestBookingCancellation::test_cancel_already_cancelled_booking \u001b[32mPASSED\u001b[0m\u001b[33m [ 33%]\u001b[0m\n",
      "tests/test_database.py::TestDatabase::test_init_db \u001b[32mPASSED\u001b[0m\u001b[33m                [ 36%]\u001b[0m\n",
      "tests/test_database.py::TestDatabase::test_get_db_session_creation \u001b[32mPASSED\u001b[0m\u001b[33m [ 39%]\u001b[0m\n",
      "tests/test_database.py::TestDatabase::test_get_db_session_cleanup \u001b[32mPASSED\u001b[0m\u001b[33m [ 42%]\u001b[0m\n",
      "tests/test_database.py::TestDatabase::test_database_url_configuration \u001b[32mPASSED\u001b[0m\u001b[33m [ 45%]\u001b[0m\n",
      "tests/test_database.py::TestDatabase::test_engine_configuration \u001b[32mPASSED\u001b[0m\u001b[33m   [ 48%]\u001b[0m\n",
      "tests/test_database.py::TestDatabase::test_session_maker_configuration \u001b[32mPASSED\u001b[0m\u001b[33m [ 51%]\u001b[0m\n",
      "tests/test_flight_management.py::TestFlightRetrieval::test_get_flights_empty_database \u001b[32mPASSED\u001b[0m\u001b[33m [ 54%]\u001b[0m\n",
      "tests/test_flight_management.py::TestFlightRetrieval::test_get_flights_with_data \u001b[32mPASSED\u001b[0m\u001b[33m [ 57%]\u001b[0m\n",
      "tests/test_flight_management.py::TestFlightDataIntegrity::test_flight_id_auto_increment \u001b[32mPASSED\u001b[0m\u001b[33m [ 60%]\u001b[0m\n",
      "tests/test_flight_management.py::TestFlightDataIntegrity::test_flight_seats_available_validation \u001b[32mPASSED\u001b[0m\u001b[33m [ 63%]\u001b[0m\n",
      "tests/test_flight_management.py::TestFlightDataIntegrity::test_flight_price_validation \u001b[32mPASSED\u001b[0m\u001b[33m [ 66%]\u001b[0m\n",
      "tests/test_flight_management.py::TestFlightBookingIntegration::test_flight_seats_decrement_on_booking \u001b[32mPASSED\u001b[0m\u001b[33m [ 69%]\u001b[0m\n",
      "tests/test_flight_management.py::TestFlightBookingIntegration::test_flight_seats_increment_on_cancellation \u001b[32mPASSED\u001b[0m\u001b[33m [ 72%]\u001b[0m\n",
      "tests/test_flight_management.py::TestFlightBookingIntegration::test_multiple_bookings_same_flight \u001b[32mPASSED\u001b[0m\u001b[33m [ 75%]\u001b[0m\n",
      "tests/test_user_management.py::TestUserRegistration::test_register_user_success \u001b[32mPASSED\u001b[0m\u001b[33m [ 78%]\u001b[0m\n",
      "tests/test_user_management.py::TestUserRegistration::test_register_user_duplicate_email \u001b[32mPASSED\u001b[0m\u001b[33m [ 81%]\u001b[0m\n",
      "tests/test_user_management.py::TestUserRegistration::test_register_user_missing_fields \u001b[32mPASSED\u001b[0m\u001b[33m [ 84%]\u001b[0m\n",
      "tests/test_user_management.py::TestUserRegistration::test_register_user_invalid_email_format \u001b[32mPASSED\u001b[0m\u001b[33m [ 87%]\u001b[0m\n",
      "tests/test_user_management.py::TestUserRetrieval::test_get_user_success \u001b[32mPASSED\u001b[0m\u001b[33m [ 90%]\u001b[0m\n",
      "tests/test_user_management.py::TestUserRetrieval::test_get_user_not_found \u001b[32mPASSED\u001b[0m\u001b[33m [ 93%]\u001b[0m\n",
      "tests/test_user_management.py::TestUserRetrieval::test_get_user_missing_parameters \u001b[32mPASSED\u001b[0m\u001b[33m [ 96%]\u001b[0m\n",
      "tests/test_user_management.py::TestUserRetrieval::test_get_user_empty_parameters \u001b[32mPASSED\u001b[0m\u001b[33m [100%]\u001b[0m\n",
      "\n",
      "\u001b[33m=============================== warnings summary ===============================\u001b[0m\n",
      "models.py:4\n",
      "  /Users/thomassuedbroecker/Documents/tsuedbro/dev/learning-2024/galaxium-travels-infrastructure/booking_system_rest/models.py:4: MovedIn20Warning: The ``declarative_base()`` function is now available as sqlalchemy.orm.declarative_base(). (deprecated since: 2.0) (Background on SQLAlchemy 2.0 at: https://sqlalche.me/e/b8d9)\n",
      "    Base = declarative_base()\n",
      "\n",
      "app.py:21\n",
      "  /Users/thomassuedbroecker/Documents/tsuedbro/dev/learning-2024/galaxium-travels-infrastructure/booking_system_rest/app.py:21: DeprecationWarning: \n",
      "          on_event is deprecated, use lifespan event handlers instead.\n",
      "  \n",
      "          Read more about it in the\n",
      "          [FastAPI docs for Lifespan Events](https://fastapi.tiangolo.com/advanced/events/).\n",
      "          \n",
      "    @app.on_event(\"startup\")\n",
      "\n",
      ".venv/lib/python3.12/site-packages/fastapi/applications.py:4495\n",
      "  /Users/thomassuedbroecker/Documents/tsuedbro/dev/learning-2024/galaxium-travels-infrastructure/booking_system_rest/.venv/lib/python3.12/site-packages/fastapi/applications.py:4495: DeprecationWarning: \n",
      "          on_event is deprecated, use lifespan event handlers instead.\n",
      "  \n",
      "          Read more about it in the\n",
      "          [FastAPI docs for Lifespan Events](https://fastapi.tiangolo.com/advanced/events/).\n",
      "          \n",
      "    return self.router.on_event(event_type)\n",
      "\n",
      ".venv/lib/python3.12/site-packages/pydantic/_internal/_config.py:323\n",
      ".venv/lib/python3.12/site-packages/pydantic/_internal/_config.py:323\n",
      ".venv/lib/python3.12/site-packages/pydantic/_internal/_config.py:323\n",
      "  /Users/thomassuedbroecker/Documents/tsuedbro/dev/learning-2024/galaxium-travels-infrastructure/booking_system_rest/.venv/lib/python3.12/site-packages/pydantic/_internal/_config.py:323: PydanticDeprecatedSince20: Support for class-based `config` is deprecated, use ConfigDict instead. Deprecated in Pydantic V2.0 to be removed in V3.0. See Pydantic V2 Migration Guide at https://errors.pydantic.dev/2.11/migration/\n",
      "    warnings.warn(DEPRECATION_MESSAGE, DeprecationWarning)\n",
      "\n",
      "tests/test_booking_system.py: 11 warnings\n",
      "tests/test_flight_management.py: 8 warnings\n",
      "tests/test_user_management.py: 8 warnings\n",
      "  /Users/thomassuedbroecker/Documents/tsuedbro/dev/learning-2024/galaxium-travels-infrastructure/booking_system_rest/seed.py:49: DeprecationWarning: datetime.datetime.utcnow() is deprecated and scheduled for removal in a future version. Use timezone-aware objects to represent datetimes in UTC: datetime.datetime.now(datetime.UTC).\n",
      "    now = datetime.utcnow()\n",
      "\n",
      "tests/test_booking_system.py::TestFlightBooking::test_book_flight_success\n",
      "tests/test_flight_management.py::TestFlightBookingIntegration::test_flight_seats_decrement_on_booking\n",
      "tests/test_flight_management.py::TestFlightBookingIntegration::test_multiple_bookings_same_flight\n",
      "tests/test_flight_management.py::TestFlightBookingIntegration::test_multiple_bookings_same_flight\n",
      "tests/test_flight_management.py::TestFlightBookingIntegration::test_multiple_bookings_same_flight\n",
      "  /Users/thomassuedbroecker/Documents/tsuedbro/dev/learning-2024/galaxium-travels-infrastructure/booking_system_rest/app.py:146: DeprecationWarning: datetime.datetime.utcnow() is deprecated and scheduled for removal in a future version. Use timezone-aware objects to represent datetimes in UTC: datetime.datetime.now(datetime.UTC).\n",
      "    booking_time=datetime.utcnow().isoformat()\n",
      "\n",
      "tests/test_booking_system.py: 6 warnings\n",
      "tests/test_flight_management.py: 1 warning\n",
      "tests/test_user_management.py: 3 warnings\n",
      "  /Users/thomassuedbroecker/Documents/tsuedbro/dev/learning-2024/galaxium-travels-infrastructure/booking_system_rest/app.py:81: PydanticDeprecatedSince20: The `dict` method is deprecated; use `model_dump` instead. Deprecated in Pydantic V2.0 to be removed in V3.0. See Pydantic V2 Migration Guide at https://errors.pydantic.dev/2.11/migration/\n",
      "    ).dict()\n",
      "\n",
      "-- Docs: https://docs.pytest.org/en/stable/how-to/capture-warnings.html\n",
      "================================ tests coverage ================================\n",
      "_______________ coverage: platform darwin, python 3.12.3-final-0 _______________\n",
      "\n",
      "Name        Stmts   Miss  Cover   Missing\n",
      "-----------------------------------------\n",
      "app.py        139     17    88%   95-97, 153-156, 169-171, 205-208, 233-236, 256-258, 271-272\n",
      "db.py          13      0   100%\n",
      "models.py      24      0   100%\n",
      "-----------------------------------------\n",
      "TOTAL         176     17    90%\n",
      "Coverage HTML written to dir htmlcov\n",
      "\u001b[33m======================= \u001b[32m33 passed\u001b[0m, \u001b[33m\u001b[1m48 warnings\u001b[0m\u001b[33m in 0.60s\u001b[0m\u001b[33m ========================\u001b[0m\n",
      "\n",
      "\n",
      "✅ all completed successfully!\n"
     ]
    }
   ],
   "source": [
    "%%bash\n",
    "source .venv/bin/activate\n",
    "python run_tests.py all\n"
   ]
  },
  {
   "cell_type": "markdown",
   "metadata": {},
   "source": [
    "# Trigger Redeployment\n",
    "\n",
    "if you have changed something in git you can use this to trigger a redeployment"
   ]
  },
  {
   "cell_type": "code",
   "execution_count": null,
   "metadata": {},
   "outputs": [],
   "source": [
    "%%bash\n",
    "\n",
    "ibmcloud ce project select --name ${PROJECT_NAME}\n",
    "\n",
    "# Create the application\n",
    "ibmcloud ce application update \\\n",
    "  --name ${APP_NAME}\\\n",
    "  --build-source ${GIT_REPO} \\\n",
    "  --build-context-dir ${CONTEXT_DIR} \\\n",
    "  --port ${PORT} \\\n",
    "  --strategy dockerfile \\"
   ]
  },
  {
   "cell_type": "markdown",
   "metadata": {},
   "source": [
    "# Delete an IBM Cloud Code Engine application\n",
    "\n",
    "you should do this to avoid unnecessary cost"
   ]
  },
  {
   "cell_type": "code",
   "execution_count": null,
   "metadata": {},
   "outputs": [],
   "source": [
    "%%bash\n",
    "\n",
    "# Delete the application (force, no prompt)\n",
    "ibmcloud ce application delete --name ${APP_NAME} --force "
   ]
  }
 ],
 "metadata": {
  "kernelspec": {
   "display_name": "Python 3 (ipykernel)",
   "language": "python",
   "name": "python3"
  },
  "language_info": {
   "codemirror_mode": {
    "name": "ipython",
    "version": 3
   },
   "file_extension": ".py",
   "mimetype": "text/x-python",
   "name": "python",
   "nbconvert_exporter": "python",
   "pygments_lexer": "ipython3",
   "version": "3.12.3"
  }
 },
 "nbformat": 4,
 "nbformat_minor": 4
}
